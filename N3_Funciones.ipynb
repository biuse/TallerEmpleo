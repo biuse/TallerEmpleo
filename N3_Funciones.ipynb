{
 "cells": [
  {
   "cell_type": "markdown",
   "metadata": {},
   "source": [
    "# Primeros pasos en Python \n",
    "## 3. Funciones\n",
    "\n",
    "Definimos funciones, sirven para usar varias una orden sin tener que volver a escribirla cada vez. \n",
    "Las funciones cogen variables (o parametros) y dan una salida (con return)"
   ]
  },
  {
   "cell_type": "code",
   "execution_count": 1,
   "metadata": {},
   "outputs": [],
   "source": [
    "def funcion(name):\n",
    "    print(name)"
   ]
  },
  {
   "cell_type": "code",
   "execution_count": 2,
   "metadata": {},
   "outputs": [
    {
     "name": "stdout",
     "output_type": "stream",
     "text": [
      "hola\n"
     ]
    }
   ],
   "source": [
    "funcion('hola')"
   ]
  },
  {
   "cell_type": "code",
   "execution_count": 3,
   "metadata": {},
   "outputs": [],
   "source": [
    "def funcion(name):\n",
    "    print('Mi nombre es',name)"
   ]
  },
  {
   "cell_type": "code",
   "execution_count": 4,
   "metadata": {},
   "outputs": [
    {
     "name": "stdout",
     "output_type": "stream",
     "text": [
      "Mi nombre es Biuse\n"
     ]
    }
   ],
   "source": [
    "funcion('Biuse')"
   ]
  },
  {
   "cell_type": "code",
   "execution_count": 5,
   "metadata": {},
   "outputs": [
    {
     "name": "stdout",
     "output_type": "stream",
     "text": [
      "Mi nombre es Manuel\n"
     ]
    }
   ],
   "source": [
    "funcion('Manuel')"
   ]
  },
  {
   "cell_type": "code",
   "execution_count": 6,
   "metadata": {},
   "outputs": [],
   "source": [
    "def suma(x,y):\n",
    "    c=x+y\n",
    "    print('la suma es',c)"
   ]
  },
  {
   "cell_type": "code",
   "execution_count": 7,
   "metadata": {},
   "outputs": [
    {
     "name": "stdout",
     "output_type": "stream",
     "text": [
      "la suma es 8\n"
     ]
    }
   ],
   "source": [
    "suma(3,5)"
   ]
  },
  {
   "cell_type": "code",
   "execution_count": 8,
   "metadata": {},
   "outputs": [],
   "source": [
    "# x y parametros de la función\n",
    "def suma(x,y):\n",
    "    c=x+y\n",
    "    # salida de la función\n",
    "    return c"
   ]
  },
  {
   "cell_type": "code",
   "execution_count": 9,
   "metadata": {},
   "outputs": [
    {
     "name": "stdout",
     "output_type": "stream",
     "text": [
      "8\n"
     ]
    }
   ],
   "source": [
    "resultado=suma(3,5)\n",
    "print(resultado)"
   ]
  },
  {
   "cell_type": "code",
   "execution_count": 10,
   "metadata": {},
   "outputs": [
    {
     "name": "stdout",
     "output_type": "stream",
     "text": [
      "15\n"
     ]
    }
   ],
   "source": [
    "resultado=suma(3,12)\n",
    "print(resultado)"
   ]
  },
  {
   "cell_type": "code",
   "execution_count": 11,
   "metadata": {},
   "outputs": [],
   "source": [
    "# la podemos complicar más,\n",
    "# x y parametros de la función\n",
    "def suma(x,y):\n",
    "    c=x+y\n",
    "    if c<10:  # esto lo veremos luego\n",
    "        print('la suma es menor a 10')\n",
    "    else:\n",
    "        print(c)"
   ]
  },
  {
   "cell_type": "code",
   "execution_count": 12,
   "metadata": {},
   "outputs": [
    {
     "name": "stdout",
     "output_type": "stream",
     "text": [
      "15\n"
     ]
    }
   ],
   "source": [
    "suma(3,12)\n"
   ]
  },
  {
   "cell_type": "code",
   "execution_count": 13,
   "metadata": {},
   "outputs": [
    {
     "name": "stdout",
     "output_type": "stream",
     "text": [
      "la suma es menor a 10\n"
     ]
    }
   ],
   "source": [
    "suma(3,1)"
   ]
  },
  {
   "cell_type": "code",
   "execution_count": 24,
   "metadata": {},
   "outputs": [],
   "source": [
    "# queremos buscar el menor elemento de una lista de números (o el que empieza con las primeras letra del abecedario si es texto)\n",
    "def Menor(lista):\n",
    "    lista.sort()  # ordenamos la lista\n",
    "    primera=lista[0]\n",
    "    return primera\n"
   ]
  },
  {
   "cell_type": "code",
   "execution_count": 28,
   "metadata": {},
   "outputs": [
    {
     "name": "stdout",
     "output_type": "stream",
     "text": [
      "-3\n",
      "black\n"
     ]
    }
   ],
   "source": [
    "v=[1,5,-3,2,10]\n",
    "v0=Menor(v)\n",
    "print(v0)\n",
    "r = ['white', 'black', 'green', 'blue', 'red']\n",
    "r0=Menor(r)\n",
    "print(r0)"
   ]
  },
  {
   "cell_type": "markdown",
   "metadata": {},
   "source": [
    "Probad vosotros:\n",
    "* Escribid una función que devuelva la resta de 2 números. Calculad unas cuantas restas\n",
    "* Escribid una función para que calcule el volúmen de un cubo (de lado L) y calcular los volumenes de un cubo de lado 3, 4.7 y 0.4 cm\n",
    "* Escribe una función que haga la resta de dos números, multiplique el resultado * 3 y que escriba el resultado final\n",
    "* Escribid una función que os encuentre el valor más grande de una lista"
   ]
  },
  {
   "cell_type": "code",
   "execution_count": null,
   "metadata": {},
   "outputs": [],
   "source": []
  }
 ],
 "metadata": {
  "kernelspec": {
   "display_name": "Python 3",
   "language": "python",
   "name": "python3"
  },
  "language_info": {
   "codemirror_mode": {
    "name": "ipython",
    "version": 3
   },
   "file_extension": ".py",
   "mimetype": "text/x-python",
   "name": "python",
   "nbconvert_exporter": "python",
   "pygments_lexer": "ipython3",
   "version": "3.6.1"
  }
 },
 "nbformat": 4,
 "nbformat_minor": 2
}
