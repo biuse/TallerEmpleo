{
 "cells": [
  {
   "cell_type": "markdown",
   "metadata": {},
   "source": [
    "# Primeros pasos en Python \n",
    "## 3. Funciones\n",
    "\n",
    "*\"Una función es un conjunto de líneas de código que realizan una tarea específica y puede retornar uno o más valores. Las funciones pueden tomar parámetros que modifiquen su funcionamiento.\"*\n",
    "\n",
    "Las funciones cogen variables y dan una (o más) salidas.\n",
    "\n",
    "Son muy útiles para tener una orden que se ejecuta con variables que podemos cambiar sin tener que escribirla cada vez. "
   ]
  },
  {
   "cell_type": "code",
   "execution_count": null,
   "metadata": {},
   "outputs": [],
   "source": [
    "def nombre_funcion(variables): #! dos puntos siempre\n",
    "    # lineas de código que usan las variables y los parámetros\n",
    "     y=f(variables)\n",
    "   #  return y   # devolvemos el resultado de la función si quieremos"
   ]
  },
  {
   "cell_type": "code",
   "execution_count": 2,
   "metadata": {},
   "outputs": [],
   "source": [
    "def escribir(name):    # AQUI name es solo una variable, le damos valor a la variable cuando llamemos a la funcion\n",
    "     print(name) "
   ]
  },
  {
   "cell_type": "code",
   "execution_count": 3,
   "metadata": {},
   "outputs": [
    {
     "name": "stdout",
     "output_type": "stream",
     "text": [
      "hola\n"
     ]
    }
   ],
   "source": [
    "escribir('hola')       # en la función se sustituye la variable name por 'hola'"
   ]
  },
  {
   "cell_type": "code",
   "execution_count": 4,
   "metadata": {},
   "outputs": [
    {
     "name": "stdout",
     "output_type": "stream",
     "text": [
      "adiós\n"
     ]
    }
   ],
   "source": [
    "var='adiós'\n",
    "escribir(var)"
   ]
  },
  {
   "cell_type": "code",
   "execution_count": 3,
   "metadata": {},
   "outputs": [],
   "source": [
    "def escribirNombre(name):\n",
    "    print('Mi nombre es',name)"
   ]
  },
  {
   "cell_type": "code",
   "execution_count": 4,
   "metadata": {},
   "outputs": [
    {
     "name": "stdout",
     "output_type": "stream",
     "text": [
      "Mi nombre es Biuse\n"
     ]
    }
   ],
   "source": [
    "escribirNombre('Biuse')"
   ]
  },
  {
   "cell_type": "code",
   "execution_count": 5,
   "metadata": {},
   "outputs": [
    {
     "name": "stdout",
     "output_type": "stream",
     "text": [
      "Mi nombre es Manuel\n"
     ]
    }
   ],
   "source": [
    "escribirNombre('Manuel')"
   ]
  },
  {
   "cell_type": "code",
   "execution_count": 22,
   "metadata": {},
   "outputs": [],
   "source": [
    "def mates(variable1,variable2): #! dos puntos siempre\n",
    "    # lineas de código que usan las variables y los parámetros\n",
    "    c=variable1*variable2\n",
    "    a=c+3\n",
    "   # print(c)  # si solo quiero ver el resultado \n",
    "    return c  # si quiero recoger el resultado para usarlo\n"
   ]
  },
  {
   "cell_type": "code",
   "execution_count": 23,
   "metadata": {},
   "outputs": [
    {
     "data": {
      "text/plain": [
       "12"
      ]
     },
     "execution_count": 23,
     "metadata": {},
     "output_type": "execute_result"
    }
   ],
   "source": [
    "mates(3,4)"
   ]
  },
  {
   "cell_type": "code",
   "execution_count": 24,
   "metadata": {},
   "outputs": [
    {
     "name": "stdout",
     "output_type": "stream",
     "text": [
      "('el resultado es', 12)\n"
     ]
    }
   ],
   "source": [
    "y=mates(3,4)\n",
    "print('el resultado es',y)\n",
    "#y*2"
   ]
  },
  {
   "cell_type": "code",
   "execution_count": 6,
   "metadata": {},
   "outputs": [],
   "source": [
    "def suma(x,y):   # aqui aunque haya usado x e y antes no los va a coger aqui son solo letras\n",
    "    c=x+y\n",
    "    print('la suma es',c)"
   ]
  },
  {
   "cell_type": "code",
   "execution_count": 7,
   "metadata": {},
   "outputs": [
    {
     "name": "stdout",
     "output_type": "stream",
     "text": [
      "la suma es 8\n"
     ]
    }
   ],
   "source": [
    "suma(3,5)        # cuando llamemos la funcion le damos valor a las variables x,y de suma(x,y)"
   ]
  },
  {
   "cell_type": "code",
   "execution_count": 8,
   "metadata": {},
   "outputs": [],
   "source": [
    "# x y parametros de la función\n",
    "def suma(x,y):\n",
    "    c=x+y\n",
    "    # salida de la función\n",
    "    return c"
   ]
  },
  {
   "cell_type": "code",
   "execution_count": 9,
   "metadata": {},
   "outputs": [
    {
     "name": "stdout",
     "output_type": "stream",
     "text": [
      "8\n"
     ]
    }
   ],
   "source": [
    "resultado=suma(3,5)\n",
    "print(resultado)"
   ]
  },
  {
   "cell_type": "code",
   "execution_count": 10,
   "metadata": {},
   "outputs": [
    {
     "name": "stdout",
     "output_type": "stream",
     "text": [
      "15\n"
     ]
    }
   ],
   "source": [
    "resultado=suma(3,12)\n",
    "print(resultado)"
   ]
  },
  {
   "cell_type": "code",
   "execution_count": 11,
   "metadata": {},
   "outputs": [],
   "source": [
    "# la podemos complicar más,\n",
    "# x y parametros de la función\n",
    "def suma(x,y):\n",
    "    c=x+y\n",
    "    if c<10:  # esto lo veremos luego\n",
    "        print('la suma es menor a 10')\n",
    "    else:\n",
    "        print(c)"
   ]
  },
  {
   "cell_type": "code",
   "execution_count": 12,
   "metadata": {},
   "outputs": [
    {
     "name": "stdout",
     "output_type": "stream",
     "text": [
      "15\n"
     ]
    }
   ],
   "source": [
    "suma(3,12)\n"
   ]
  },
  {
   "cell_type": "code",
   "execution_count": 13,
   "metadata": {},
   "outputs": [
    {
     "name": "stdout",
     "output_type": "stream",
     "text": [
      "la suma es menor a 10\n"
     ]
    }
   ],
   "source": [
    "suma(3,1)"
   ]
  },
  {
   "cell_type": "code",
   "execution_count": 24,
   "metadata": {},
   "outputs": [],
   "source": [
    "# queremos buscar el menor elemento de una lista de números (o el que empieza con las primeras letra del abecedario si es texto)\n",
    "def Menor(lista):\n",
    "    lista.sort()  # ordenamos la lista\n",
    "    primera=lista[0]\n",
    "    return primera\n"
   ]
  },
  {
   "cell_type": "code",
   "execution_count": 28,
   "metadata": {},
   "outputs": [
    {
     "name": "stdout",
     "output_type": "stream",
     "text": [
      "-3\n",
      "black\n"
     ]
    }
   ],
   "source": [
    "v=[1,5,-3,2,10]\n",
    "v0=Menor(v)\n",
    "print(v0)\n",
    "r = ['white', 'black', 'green', 'blue', 'red']\n",
    "r0=Menor(r)\n",
    "print(r0)"
   ]
  },
  {
   "cell_type": "markdown",
   "metadata": {},
   "source": [
    "Probad vosotros:\n",
    "1.  Escribid una función que devuelva la resta de 2 números. Calculad unas cuantas restas\n",
    "2.  Escribid una función que dada una lista, la ordene y te devuelva la primera palabra\n",
    "3.  Escribe una función que haga la resta de dos números, multiplique el resultado * 3 y que escriba el resultado final\n"
   ]
  },
  {
   "cell_type": "markdown",
   "metadata": {},
   "source": [
    "* Mirad el resultado de (4-6)*3 usando la función 3\n",
    "* usa la función 2 para saber la primera ciudad ordenada alfabeticamente de la lista\n",
    "['Bangkok','Barcelona','Beijing','BuenosAires','Berlin','Badajoz','Barakaldo','Barcena','Burgos','Bilbao','Baena']\n",
    "\n"
   ]
  },
  {
   "cell_type": "markdown",
   "metadata": {},
   "source": [
    "Escribimos en un archivo funciones.py  estas tres funciones"
   ]
  },
  {
   "cell_type": "code",
   "execution_count": null,
   "metadata": {},
   "outputs": [],
   "source": []
  }
 ],
 "metadata": {
  "kernelspec": {
   "display_name": "Python 2",
   "language": "python",
   "name": "python2"
  },
  "language_info": {
   "codemirror_mode": {
    "name": "ipython",
    "version": 2
   },
   "file_extension": ".py",
   "mimetype": "text/x-python",
   "name": "python",
   "nbconvert_exporter": "python",
   "pygments_lexer": "ipython2",
   "version": "2.7.15"
  }
 },
 "nbformat": 4,
 "nbformat_minor": 2
}
