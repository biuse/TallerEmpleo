{
 "cells": [
  {
   "cell_type": "markdown",
   "metadata": {},
   "source": [
    "# Primeros Pasos de Python#\n",
    "## Cargar Modulos. Numpy\n",
    "\n",
    "Python tiene definidos modulos que son conjuntos de funciones. Las funciones se acceden: modulo.funcion() \n"
   ]
  },
  {
   "cell_type": "code",
   "execution_count": 24,
   "metadata": {},
   "outputs": [],
   "source": [
    "# cargamos modulo\n",
    "import numpy as np"
   ]
  },
  {
   "cell_type": "code",
   "execution_count": 9,
   "metadata": {},
   "outputs": [],
   "source": [
    "## https://docs.scipy.org/doc/numpy-1.13.0/reference/routines.math.html"
   ]
  },
  {
   "cell_type": "code",
   "execution_count": 2,
   "metadata": {},
   "outputs": [
    {
     "data": {
      "text/plain": [
       "5.0"
      ]
     },
     "execution_count": 2,
     "metadata": {},
     "output_type": "execute_result"
    }
   ],
   "source": [
    "# numpy es un paquete de números. \n",
    "np.sqrt(25)"
   ]
  },
  {
   "cell_type": "code",
   "execution_count": 7,
   "metadata": {},
   "outputs": [
    {
     "data": {
      "text/plain": [
       "-0.9880316240928618"
      ]
     },
     "execution_count": 7,
     "metadata": {},
     "output_type": "execute_result"
    }
   ],
   "source": [
    "# calculadora científica\n",
    "np.sin(30)"
   ]
  },
  {
   "cell_type": "code",
   "execution_count": 3,
   "metadata": {},
   "outputs": [
    {
     "data": {
      "text/plain": [
       "[1, 2, 3, 5, 4, 2]"
      ]
     },
     "execution_count": 3,
     "metadata": {},
     "output_type": "execute_result"
    }
   ],
   "source": [
    "# puede pasar listas a arrays. \n",
    "# las listas son para guardar variables no para operar con ellas. (Para hacer operaciones matemáticas hay que usar arrays. )\n",
    "v=[1,2,3]\n",
    "w=[5,4,2]\n",
    "v+w"
   ]
  },
  {
   "cell_type": "code",
   "execution_count": 6,
   "metadata": {},
   "outputs": [
    {
     "name": "stdout",
     "output_type": "stream",
     "text": [
      "<class 'list'>\n",
      "<class 'numpy.ndarray'>\n"
     ]
    },
    {
     "data": {
      "text/plain": [
       "array([6, 6, 5])"
      ]
     },
     "execution_count": 6,
     "metadata": {},
     "output_type": "execute_result"
    }
   ],
   "source": [
    "v1=np.array(v)\n",
    "w1=np.array(w)\n",
    "print(type(v))\n",
    "print(type(v1))\n",
    "v1+w1  # me suma elemento a elemento los números del array"
   ]
  },
  {
   "cell_type": "code",
   "execution_count": 31,
   "metadata": {},
   "outputs": [
    {
     "name": "stdout",
     "output_type": "stream",
     "text": [
      "[0. 0. 0. 0. 0. 0. 0. 0. 0. 0.]\n",
      "[1. 1. 1. 1. 1. 1. 1. 1. 1. 1.]\n",
      "[0.31322367 0.42770707 0.10835478 0.11587656 0.604673   0.04578005\n",
      " 0.67793786 0.55069262 0.20339913 0.0416871 ]\n"
     ]
    }
   ],
   "source": [
    "# numpy suele trabajar con array\n",
    "a=np.zeros(10)\n",
    "print(a)\n",
    "a=np.ones(10)\n",
    "print(a)\n",
    "a=np.random.uniform(size=10)\n",
    "print(a)"
   ]
  },
  {
   "cell_type": "code",
   "execution_count": 16,
   "metadata": {},
   "outputs": [
    {
     "name": "stdout",
     "output_type": "stream",
     "text": [
      "dimensiones de A (9, 2)\n"
     ]
    }
   ],
   "source": [
    "# puede leer archivos\n",
    "A=np.loadtxt('ejemplo.txt')\n",
    "print('dimensiones de A',np.shape(A)) # shape nos da la dimension\n"
   ]
  },
  {
   "cell_type": "code",
   "execution_count": 32,
   "metadata": {},
   "outputs": [
    {
     "name": "stdout",
     "output_type": "stream",
     "text": [
      "<class 'numpy.ndarray'>\n"
     ]
    }
   ],
   "source": [
    "# guardamos cada columna en un array. Numpy trabaja con arrays así que A es un array\n",
    "print(type(A))\n",
    "x=A[:,0]\n",
    "y=A[:,1]"
   ]
  },
  {
   "cell_type": "code",
   "execution_count": null,
   "metadata": {},
   "outputs": [],
   "source": [
    "# guardamos un archivo\n",
    "v=[1,2,3,4]\n",
    "np.savetxt('nombreFichero.txt',v)"
   ]
  },
  {
   "cell_type": "markdown",
   "metadata": {},
   "source": [
    "Ejercicios:\n",
    "1. Genera una lista de 15 números, los que quieras\n",
    "2. Guárdala en un fichero (con np.savetxt)\n",
    "3. Lee el fichero (con np.loadtxt)\n",
    "4. Escribe por pantalla la lista que has generado\n",
    "5. Multiplica todos los elementos de la lista por 2. Comprueba que el resultado es el esperado. \n",
    "6. Escribe por pantalla el valor del elemento en la segunda posición.\n",
    "7. Poned todos esos pasos en una función, dandole como parametros la lista y el nombre del archivo. "
   ]
  },
  {
   "cell_type": "code",
   "execution_count": null,
   "metadata": {},
   "outputs": [],
   "source": []
  }
 ],
 "metadata": {
  "kernelspec": {
   "display_name": "Python 2",
   "language": "python",
   "name": "python2"
  },
  "language_info": {
   "codemirror_mode": {
    "name": "ipython",
    "version": 2
   },
   "file_extension": ".py",
   "mimetype": "text/x-python",
   "name": "python",
   "nbconvert_exporter": "python",
   "pygments_lexer": "ipython2",
   "version": "2.7.15"
  }
 },
 "nbformat": 4,
 "nbformat_minor": 2
}
