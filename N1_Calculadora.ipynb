{
 "cells": [
  {
   "cell_type": "markdown",
   "metadata": {},
   "source": [
    "# Primeros pasos con iPython\n",
    "\n",
    "*  En cada celda daremos una o más órdenes\n",
    "*  Se ejecuta con Run. (o shift+enter)\n",
    "*  La siguiente celda recuerda las anteriores\n",
    "*  Si queremos una celda solo de escribir cambiar tipo de celda (Cell/Markdown)\n"
   ]
  },
  {
   "cell_type": "markdown",
   "metadata": {},
   "source": [
    "## Funciones y comando ayuda:\n",
    "\n",
    "Las funciones o comandos en python son nombre de la funcion y parentesis (). \n",
    "Por ejemplo, el comando `print` muestra por pantalla el mensaje que incluyamos como argumento."
   ]
  },
  {
   "cell_type": "code",
   "execution_count": 3,
   "metadata": {},
   "outputs": [
    {
     "name": "stdout",
     "output_type": "stream",
     "text": [
      "Hola que tal\n"
     ]
    }
   ],
   "source": [
    "print(\"Hola que tal?\")"
   ]
  },
  {
   "cell_type": "markdown",
   "metadata": {},
   "source": [
    "Sin embargo, en muchas ocasiones podemos conocer el nombre de una función pero no su funcionamiento o todas sus opciones y funcionalidades, para lo cual podemos escribir:"
   ]
  },
  {
   "cell_type": "code",
   "execution_count": 4,
   "metadata": {},
   "outputs": [
    {
     "name": "stdout",
     "output_type": "stream",
     "text": [
      "The \"print\" statement\n",
      "*********************\n",
      "\n",
      "   print_stmt ::= \"print\" ([expression (\",\" expression)* [\",\"]]\n",
      "                  | \">>\" expression [(\",\" expression)+ [\",\"]])\n",
      "\n",
      "\"print\" evaluates each expression in turn and writes the resulting\n",
      "object to standard output (see below).  If an object is not a string,\n",
      "it is first converted to a string using the rules for string\n",
      "conversions.  The (resulting or original) string is then written.  A\n",
      "space is written before each object is (converted and) written, unless\n",
      "the output system believes it is positioned at the beginning of a\n",
      "line.  This is the case (1) when no characters have yet been written\n",
      "to standard output, (2) when the last character written to standard\n",
      "output is a whitespace character except \"' '\", or (3) when the last\n",
      "write operation on standard output was not a \"print\" statement. (In\n",
      "some cases it may be functional to write an empty string to standard\n",
      "output for this reason.)\n",
      "\n",
      "Note: Objects which act like file objects but which are not the\n",
      "  built-in file objects often do not properly emulate this aspect of\n",
      "  the file object's behavior, so it is best not to rely on this.\n",
      "\n",
      "A \"'\\n'\" character is written at the end, unless the \"print\" statement\n",
      "ends with a comma.  This is the only action if the statement contains\n",
      "just the keyword \"print\".\n",
      "\n",
      "Standard output is defined as the file object named \"stdout\" in the\n",
      "built-in module \"sys\".  If no such object exists, or if it does not\n",
      "have a \"write()\" method, a \"RuntimeError\" exception is raised.\n",
      "\n",
      "\"print\" also has an extended form, defined by the second portion of\n",
      "the syntax described above. This form is sometimes referred to as\n",
      "\"\"print\" chevron.\" In this form, the first expression after the \">>\"\n",
      "must evaluate to a \"file-like\" object, specifically an object that has\n",
      "a \"write()\" method as described above.  With this extended form, the\n",
      "subsequent expressions are printed to this file object.  If the first\n",
      "expression evaluates to \"None\", then \"sys.stdout\" is used as the file\n",
      "for output.\n",
      "\n"
     ]
    }
   ],
   "source": [
    "help(\"print\")"
   ]
  },
  {
   "cell_type": "markdown",
   "metadata": {},
   "source": [
    "# Comentarios \n",
    "\n",
    "Todo lo que hay detrás de una almohadilla no se ejecuta. "
   ]
  },
  {
   "cell_type": "code",
   "execution_count": 1,
   "metadata": {},
   "outputs": [
    {
     "data": {
      "text/plain": [
       "8"
      ]
     },
     "execution_count": 1,
     "metadata": {},
     "output_type": "execute_result"
    }
   ],
   "source": [
    "5 + 3 # Suma de dos numeros\n"
   ]
  },
  {
   "cell_type": "markdown",
   "metadata": {},
   "source": [
    "## Errores: \n",
    "Si algo falla sale un error con explicación y la linea donde falló (otros lenguajes no dan explicación)"
   ]
  },
  {
   "cell_type": "code",
   "execution_count": 5,
   "metadata": {},
   "outputs": [
    {
     "name": "stdout",
     "output_type": "stream",
     "text": [
      "8\n"
     ]
    },
    {
     "ename": "NameError",
     "evalue": "name 'pritn' is not defined",
     "output_type": "error",
     "traceback": [
      "\u001b[0;31m---------------------------------------------------------------------------\u001b[0m",
      "\u001b[0;31mNameError\u001b[0m                                 Traceback (most recent call last)",
      "\u001b[0;32m<ipython-input-5-addef9aa0e05>\u001b[0m in \u001b[0;36m<module>\u001b[0;34m()\u001b[0m\n\u001b[1;32m      1\u001b[0m \u001b[0;32mprint\u001b[0m\u001b[0;34m(\u001b[0m\u001b[0;36m5\u001b[0m\u001b[0;34m+\u001b[0m\u001b[0;36m3\u001b[0m\u001b[0;34m)\u001b[0m\u001b[0;34m\u001b[0m\u001b[0m\n\u001b[0;32m----> 2\u001b[0;31m \u001b[0mpritn\u001b[0m\u001b[0;34m(\u001b[0m\u001b[0;36m6\u001b[0m\u001b[0;34m*\u001b[0m\u001b[0;36m2\u001b[0m\u001b[0;34m)\u001b[0m \u001b[0;31m# Suma de dos numeros\u001b[0m\u001b[0;34m\u001b[0m\u001b[0m\n\u001b[0m",
      "\u001b[0;31mNameError\u001b[0m: name 'pritn' is not defined"
     ]
    }
   ],
   "source": [
    "print(5+3)\n",
    "pritn(6*2) # Suma de dos numeros"
   ]
  },
  {
   "cell_type": "markdown",
   "metadata": {},
   "source": [
    "Podemos usar otros lenguajes de programacion e interaccionar con ellos"
   ]
  },
  {
   "cell_type": "code",
   "execution_count": 7,
   "metadata": {},
   "outputs": [
    {
     "data": {
      "text/html": [
       "<img src=\"https://www.visualstudio.com/wp-content/uploads/2016/06/python-1-562x309@2x-op.png\">\n",
       "<h1>Python logo<h1>"
      ],
      "text/plain": [
       "<IPython.core.display.HTML object>"
      ]
     },
     "metadata": {},
     "output_type": "display_data"
    }
   ],
   "source": [
    "%%html\n",
    "<img src=\"https://www.visualstudio.com/wp-content/uploads/2016/06/python-1-562x309@2x-op.png\">\n",
    "<h1>Python logo<h1>"
   ]
  },
  {
   "cell_type": "markdown",
   "metadata": {},
   "source": [
    "## 1. Calculadora\n",
    "\n",
    "En Python podemos hacer calculos simples \n",
    "\n"
   ]
  },
  {
   "cell_type": "code",
   "execution_count": 8,
   "metadata": {},
   "outputs": [
    {
     "data": {
      "text/plain": [
       "8"
      ]
     },
     "execution_count": 8,
     "metadata": {},
     "output_type": "execute_result"
    }
   ],
   "source": [
    "#Una simple suma\n",
    "3+5"
   ]
  },
  {
   "cell_type": "code",
   "execution_count": 9,
   "metadata": {},
   "outputs": [
    {
     "data": {
      "text/plain": [
       "3"
      ]
     },
     "execution_count": 9,
     "metadata": {},
     "output_type": "execute_result"
    }
   ],
   "source": [
    "# dividr / multplicar * exponente **, con print escribimos\n",
    "6/2\n"
   ]
  },
  {
   "cell_type": "code",
   "execution_count": 10,
   "metadata": {},
   "outputs": [
    {
     "data": {
      "text/plain": [
       "50"
      ]
     },
     "execution_count": 10,
     "metadata": {},
     "output_type": "execute_result"
    }
   ],
   "source": [
    "# solo escribe la ultima linea\n",
    "6/2\n",
    "10*5"
   ]
  },
  {
   "cell_type": "code",
   "execution_count": 11,
   "metadata": {},
   "outputs": [
    {
     "name": "stdout",
     "output_type": "stream",
     "text": [
      "3\n",
      "50\n",
      "0.00411522633745\n"
     ]
    }
   ],
   "source": [
    "# para verlo todo con print. Print es lo que te va a escribir el codigo en pantalla\n",
    "print(6/2)\n",
    "print(10*5)\n",
    "print(3**2)"
   ]
  },
  {
   "cell_type": "code",
   "execution_count": 12,
   "metadata": {},
   "outputs": [
    {
     "data": {
      "text/plain": [
       "8"
      ]
     },
     "execution_count": 12,
     "metadata": {},
     "output_type": "execute_result"
    }
   ],
   "source": [
    "# definimos variable\n",
    "x=5   ## HASTA QUE NO DIGAMOS LO CONTRARIO x será 5\n",
    "y=3\n",
    "x+y"
   ]
  },
  {
   "cell_type": "code",
   "execution_count": 26,
   "metadata": {},
   "outputs": [
    {
     "data": {
      "text/plain": [
       "8"
      ]
     },
     "execution_count": 26,
     "metadata": {},
     "output_type": "execute_result"
    }
   ],
   "source": [
    "# Lo podemos poner en línea separado por punto y coma\n",
    "x=5;y=3;x+y"
   ]
  },
  {
   "cell_type": "code",
   "execution_count": 13,
   "metadata": {},
   "outputs": [
    {
     "name": "stdout",
     "output_type": "stream",
     "text": [
      "5\n"
     ]
    }
   ],
   "source": [
    "print(x)"
   ]
  },
  {
   "cell_type": "code",
   "execution_count": null,
   "metadata": {},
   "outputs": [],
   "source": [
    "x=2*x  # podemos reescribir variable"
   ]
  },
  {
   "cell_type": "code",
   "execution_count": 14,
   "metadata": {},
   "outputs": [
    {
     "name": "stdout",
     "output_type": "stream",
     "text": [
      "8\n",
      "16\n"
     ]
    }
   ],
   "source": [
    "# guardar las cosas en variables es muy útil para hacer operaciones más largas, no tengo que escribir \n",
    "# cada vez todos los valores\n",
    "y=3\n",
    "c=x+y\n",
    "a=c+x+y\n",
    "print(c)\n",
    "print(a)"
   ]
  },
  {
   "cell_type": "code",
   "execution_count": 10,
   "metadata": {},
   "outputs": [
    {
     "name": "stdout",
     "output_type": "stream",
     "text": [
      "la suma de x +y es igual a 8\n",
      "la resta de x-y es igual a 2\n"
     ]
    }
   ],
   "source": [
    "# si quiero poner texto entre ''\n",
    "x=5\n",
    "y=3\n",
    "print('la suma de x e y es igual a',x+y)\n",
    "print('la resta de x e y es igual a',x-y)"
   ]
  },
  {
   "cell_type": "markdown",
   "metadata": {},
   "source": [
    "Probad vosotros:\n",
    "* ¿Qué pasa si en vez de x=5 ponéis 5=x? \n",
    "* Escribe 3 numeros en 3 variables (x,y,x o a,b,c,...). Suma estos tres números. Multiplica el resultado por 2 y escribe el resultado con algún texto\n",
    "* ¿Calcula el volumen de un cubo de lado L=4 cm   (V=L**3)\n",
    "* ¿Cuanto sería el volumen si el lado del cubo es 5.7 cm?\n"
   ]
  },
  {
   "cell_type": "code",
   "execution_count": null,
   "metadata": {},
   "outputs": [],
   "source": []
  }
 ],
 "metadata": {
  "kernelspec": {
   "display_name": "Python 2",
   "language": "python",
   "name": "python2"
  },
  "language_info": {
   "codemirror_mode": {
    "name": "ipython",
    "version": 2
   },
   "file_extension": ".py",
   "mimetype": "text/x-python",
   "name": "python",
   "nbconvert_exporter": "python",
   "pygments_lexer": "ipython2",
   "version": "2.7.15"
  }
 },
 "nbformat": 4,
 "nbformat_minor": 2
}
