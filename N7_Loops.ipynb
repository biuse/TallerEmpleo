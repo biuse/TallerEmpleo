{
 "cells": [
  {
   "cell_type": "markdown",
   "metadata": {},
   "source": [
    "# Primeros pasos en Python\n",
    "## Secuencias de control\n",
    "\n",
    "Las secuencias de control básicas de Python, como en el resto de lenguajes de programación pueden resumirse en el condicional (`if/elif/else`) y en los ciclos (`while/for`).\n",
    "A continuación veremos la sintaxis de ambas secuencias de control.\n"
   ]
  },
  {
   "cell_type": "markdown",
   "metadata": {},
   "source": [
    "## for/while (loops)"
   ]
  },
  {
   "cell_type": "code",
   "execution_count": 3,
   "metadata": {},
   "outputs": [
    {
     "name": "stdout",
     "output_type": "stream",
     "text": [
      "0\n",
      "1\n",
      "2\n",
      "3\n",
      "4\n"
     ]
    }
   ],
   "source": [
    "# el índice i corre desde 0 hasta el número que le digamos en range() -1\n",
    "for i in range(5):\n",
    "    print(i)\n"
   ]
  },
  {
   "cell_type": "code",
   "execution_count": 5,
   "metadata": {},
   "outputs": [
    {
     "name": "stdout",
     "output_type": "stream",
     "text": [
      "5\n",
      "4\n",
      "2\n",
      "10\n",
      "5\n",
      "2\n",
      "-1\n"
     ]
    }
   ],
   "source": [
    "# Tenemos una lista y queremos pasar por toda ella\n",
    "lista=[5,4,2,10,5,2,-1]\n",
    "\n",
    "for i in range(7):\n",
    "    print(lista[i])\n",
    "\n",
    "    \n",
    "  "
   ]
  },
  {
   "cell_type": "code",
   "execution_count": 12,
   "metadata": {},
   "outputs": [
    {
     "name": "stdout",
     "output_type": "stream",
     "text": [
      "5\n",
      "9\n",
      "11\n",
      "21\n",
      "26\n",
      "28\n",
      "27\n",
      "suma loop 27\n",
      "suma rapida 27\n"
     ]
    }
   ],
   "source": [
    "# ahora queremos sumar los números de la lista\n",
    "\n",
    "N=len(lista) # si me da pereza contar\n",
    "suma=0\n",
    "for i in range(N):\n",
    "    suma=suma+lista[i]\n",
    "print('suma loop',suma)\n",
    "print('suma rapida',sum(lista))"
   ]
  },
  {
   "cell_type": "code",
   "execution_count": 8,
   "metadata": {},
   "outputs": [
    {
     "name": "stdout",
     "output_type": "stream",
     "text": [
      "5\n",
      "6\n",
      "7\n",
      "8\n",
      "9\n"
     ]
    }
   ],
   "source": [
    "# combinado con if\n",
    "for i in range(10):\n",
    "    if i>=5:\n",
    "        print(i)\n",
    "    "
   ]
  },
  {
   "cell_type": "code",
   "execution_count": 6,
   "metadata": {},
   "outputs": [
    {
     "name": "stdout",
     "output_type": "stream",
     "text": [
      "no me gustan los valores menores a 5\n",
      "no me gustan los valores menores a 5\n",
      "no me gustan los valores menores a 5\n",
      "no me gustan los valores menores a 5\n",
      "no me gustan los valores menores a 5\n",
      "5\n",
      "6\n",
      "7\n",
      "8\n",
      "9\n"
     ]
    }
   ],
   "source": [
    "# combinado con if\n",
    "for i in range(10):\n",
    "    if i>=5:\n",
    "        print(i)\n",
    "    else:\n",
    "        print('no me gustan los valores menores a 5')"
   ]
  },
  {
   "cell_type": "code",
   "execution_count": null,
   "metadata": {},
   "outputs": [],
   "source": [
    "N = 10\n",
    "contador = 0\n",
    "suma = 0\n",
    "while contador <= N:\n",
    "    suma = suma + contador\n",
    "    contador = contador + 1\n",
    "print('La suma de los %d primeros numeros naturales es %d\\n' % (N,suma))\n",
    "\n",
    "\n",
    "\n"
   ]
  },
  {
   "cell_type": "markdown",
   "metadata": {},
   "source": [
    "### Técnicas de iteración"
   ]
  },
  {
   "cell_type": "code",
   "execution_count": 15,
   "metadata": {},
   "outputs": [
    {
     "name": "stdout",
     "output_type": "stream",
     "text": [
      "9\n",
      "8\n",
      "7\n",
      "6\n",
      "5\n",
      "4\n",
      "3\n",
      "2\n",
      "1\n",
      "0\n"
     ]
    }
   ],
   "source": [
    "# reversed\n",
    "for i in reversed(range(10)):\n",
    "    print(i)"
   ]
  },
  {
   "cell_type": "code",
   "execution_count": 16,
   "metadata": {},
   "outputs": [
    {
     "name": "stdout",
     "output_type": "stream",
     "text": [
      "0\n",
      "2\n",
      "4\n",
      "6\n",
      "8\n"
     ]
    }
   ],
   "source": [
    "for i in range(0,10,2):\n",
    "    print(i)"
   ]
  },
  {
   "cell_type": "code",
   "execution_count": 13,
   "metadata": {},
   "outputs": [
    {
     "name": "stdout",
     "output_type": "stream",
     "text": [
      "apple\n",
      "orange\n",
      "apple\n",
      "pear\n",
      "orange\n",
      "banana\n"
     ]
    }
   ],
   "source": [
    "# directamente hacemos bucle con los elementos\n",
    "basket = ['apple', 'orange', 'apple', 'pear', 'orange', 'banana']\n",
    "for elem in(basket):\n",
    "    print( elem)\n",
    "\n"
   ]
  },
  {
   "cell_type": "code",
   "execution_count": 16,
   "metadata": {},
   "outputs": [
    {
     "name": "stdout",
     "output_type": "stream",
     "text": [
      "0 apple\n",
      "1 orange\n",
      "2 apple\n",
      "3 pear\n",
      "4 orange\n",
      "5 banana\n"
     ]
    }
   ],
   "source": [
    "# o los enúmeramos\n",
    "basket = ['apple', 'orange', 'apple', 'pear', 'orange', 'banana']\n",
    "for i,elem in enumerate(basket):\n",
    "    print( i, elem)\n",
    "\n"
   ]
  },
  {
   "cell_type": "code",
   "execution_count": 17,
   "metadata": {},
   "outputs": [
    {
     "name": "stdout",
     "output_type": "stream",
     "text": [
      "['apple', 'orange', 'apple', 'pear', 'orange', 'banana']\n",
      "apple\n",
      "apple\n",
      "banana\n",
      "orange\n",
      "orange\n",
      "pear\n"
     ]
    }
   ],
   "source": [
    "# te hace el bucle ordenadamente\n",
    "basket = ['apple', 'orange', 'apple', 'pear', 'orange', 'banana']\n",
    "print(basket)\n",
    "for elem in sorted(basket):\n",
    "    print(elem)"
   ]
  },
  {
   "cell_type": "code",
   "execution_count": 29,
   "metadata": {},
   "outputs": [
    {
     "data": {
      "text/plain": [
       "[-8, -4, 0, 4, 8]"
      ]
     },
     "execution_count": 29,
     "metadata": {},
     "output_type": "execute_result"
    }
   ],
   "source": [
    "# se puede poner de manera mas compacta\n",
    "vector = [-4, -2, 0, 2, 4]\n",
    "[x*2 for x in vector] "
   ]
  },
  {
   "cell_type": "code",
   "execution_count": 30,
   "metadata": {},
   "outputs": [
    {
     "data": {
      "text/plain": [
       "[0, 2, 4]"
      ]
     },
     "execution_count": 30,
     "metadata": {},
     "output_type": "execute_result"
    }
   ],
   "source": [
    "[x for x in vector if x >= 0]"
   ]
  },
  {
   "cell_type": "markdown",
   "metadata": {},
   "source": [
    "## Ejercicios\n",
    "\n",
    "1. Crear un código que dada una lista, te de la multiplicación de todos los elementos. Si la multiplicación es mayor a 50, lo escribimos por pantalla. Si es menor, que escriba un mensaje diciendo que los números son demasiado pequeños\n",
    "\n",
    "2. Dada la lista=[\"Burgos\", \"Santander\", \"Palencia\", \"Asturias\", \"Madrid\", \"Salamanca\"], escribir un bucle que lea la lista hasta que encuentre Asturias. (usando while)\n",
    "\n",
    "3. Cuenta hasta 100 de 10 en 10 y escríbelo por pantalla.\n",
    "\n",
    "4. Cuenta hasta 100 y escribe solo los número mútliplos de 5 (if num%5==0) \n",
    "\n",
    "5. Compara while y for que código es más eficinete. Utilice el comando %%timeit descrito en el siguiente [link](https://ipython.org/ipython-doc/dev/interactive/magics.html#magic-timeit)."
   ]
  },
  {
   "cell_type": "code",
   "execution_count": 22,
   "metadata": {},
   "outputs": [
    {
     "name": "stdout",
     "output_type": "stream",
     "text": [
      "67.5 ms ± 1.47 ms per loop (mean ± std. dev. of 7 runs, 10 loops each)\n"
     ]
    }
   ],
   "source": [
    "names = [\"Burgos\", \"Santander\", \"Palencia\", \"Asturias\", \"Madrid\", \"Salamanca\"]\n",
    "\n",
    "# for-loop.\n",
    "i = 0\n",
    "while i < 100000:\n",
    "    count = 0\n",
    "    # Loop.\n",
    "    for name in names:\n",
    "        count += len(name)\n",
    "    i = i + 1\n",
    "\n"
   ]
  },
  {
   "cell_type": "code",
   "execution_count": 23,
   "metadata": {},
   "outputs": [
    {
     "name": "stdout",
     "output_type": "stream",
     "text": [
      "158 ms ± 1.54 ms per loop (mean ± std. dev. of 7 runs, 10 loops each)\n"
     ]
    }
   ],
   "source": [
    "# while-loop.\n",
    "i = 0\n",
    "while i < 100000:\n",
    "    count = 0\n",
    "    # Loop.\n",
    "    x = 0\n",
    "    while x < len(names):\n",
    "        count += len(names[x])\n",
    "        x = x + 1\n",
    "    i = i + 1"
   ]
  },
  {
   "cell_type": "code",
   "execution_count": null,
   "metadata": {},
   "outputs": [],
   "source": []
  },
  {
   "cell_type": "code",
   "execution_count": null,
   "metadata": {},
   "outputs": [],
   "source": []
  }
 ],
 "metadata": {
  "anaconda-cloud": {},
  "kernelspec": {
   "display_name": "Python 2",
   "language": "python",
   "name": "python2"
  },
  "language_info": {
   "codemirror_mode": {
    "name": "ipython",
    "version": 2
   },
   "file_extension": ".py",
   "mimetype": "text/x-python",
   "name": "python",
   "nbconvert_exporter": "python",
   "pygments_lexer": "ipython2",
   "version": "2.7.15"
  }
 },
 "nbformat": 4,
 "nbformat_minor": 1
}
